{
 "cells": [
  {
   "cell_type": "code",
   "execution_count": 6,
   "id": "85e8e227",
   "metadata": {},
   "outputs": [
    {
     "name": "stdout",
     "output_type": "stream",
     "text": [
      "Lista de Reproducción\n",
      "\n",
      "Ingresa la palabra que te gustaría\n",
      "Ejemplo: 'rock', y obtendrás un playlist de canciones o artistas que incluyan la palabra rock\n",
      "The Beatles\n",
      "('Here Comes The Sun (Remastered 2009)', 'The Beatles')\n",
      "('Let It Be (Remastered 2009)', 'The Beatles')\n",
      "('Come Together (Remastered 2009)', 'The Beatles')\n",
      "('Hey Jude (Remastered 2015)', 'The Beatles')\n",
      "('Blackbird (Remastered 2009)', 'The Beatles')\n",
      "('Now And Then', 'The Beatles')\n",
      "('Day Tripper (Remastered 2015)', 'The Beatles')\n",
      "('Twist And Shout (Remastered 2009)', 'The Beatles')\n",
      "('While My Guitar Gently Weeps (Remastered 2009)', 'The Beatles')\n",
      "('Yesterday (Remastered 2015)', 'The Beatles')\n",
      "('And I Love Her (Remastered 2009)', 'The Beatles')\n",
      "('Something (Remastered 2009)', 'The Beatles')\n",
      "('In My Life (Remastered 2009)', 'The Beatles')\n",
      "('Michelle (Remastered 2009)', 'The Beatles')\n",
      "('Here Comes The Sun (2019 Mix)', 'The Beatles')\n",
      "('Help! (Remastered 2015)', 'The Beatles')\n",
      "('Eleanor Rigby (Remastered 2015)', 'The Beatles')\n",
      "('I Want To Hold Your Hand (Remastered 2015)', 'The Beatles')\n",
      "('Yellow Submarine (Remastered 2009)', 'The Beatles')\n",
      "('Ob-La-Di, Ob-La-Da (Remastered 2009)', 'The Beatles')\n",
      "(\"A Hard Day's Night (Remastered 2015)\", 'The Beatles')\n",
      "('Love Me Do (Mono / Remastered)', 'The Beatles')\n",
      "('Drive My Car (Remastered 2009)', 'The Beatles')\n",
      "('Yesterday (Remastered 2009)', 'The Beatles')\n",
      "('Strawberry Fields Forever (Remastered 2009)', 'The Beatles')\n"
     ]
    }
   ],
   "source": [
    "import requests\n",
    "\n",
    "print(\"Lista de Reproducción\\n\")\n",
    "\n",
    "# Referencia: https://www.deezer.com/en/channels/explore\n",
    "\n",
    "print(\"Ingresa la palabra que te gustaría\")\n",
    "print(\"Ejemplo: 'rock', y obtendrás un playlist de canciones o artistas que incluyan la palabra rock\")\n",
    "\n",
    "word_to_search = input()\n",
    "\n",
    "url = \"https://deezerdevs-deezer.p.rapidapi.com/search\"\n",
    "querystring = {\"q\":word_to_search}\n",
    "headers = {\n",
    "    \"X-RapidAPI-Key\": \"3ed98f551fmshe4e6260228c4eadp13db17jsn8c893e1194da\",\n",
    "    \"X-RapidAPI-Host\": \"deezerdevs-deezer.p.rapidapi.com\"\n",
    "}\n",
    "response = requests.request(\"GET\", url, headers=headers, params=querystring).json()\n",
    "for element in response['data']:\n",
    "    my_list = [element['title'], element['artist']['name']]\n",
    "    my_tuple = tuple(my_list)\n",
    "    print(my_tuple)"
   ]
  },
  {
   "cell_type": "code",
   "execution_count": null,
   "id": "75e366d5",
   "metadata": {},
   "outputs": [],
   "source": []
  }
 ],
 "metadata": {
  "kernelspec": {
   "display_name": "Python 3 (ipykernel)",
   "language": "python",
   "name": "python3"
  },
  "language_info": {
   "codemirror_mode": {
    "name": "ipython",
    "version": 3
   },
   "file_extension": ".py",
   "mimetype": "text/x-python",
   "name": "python",
   "nbconvert_exporter": "python",
   "pygments_lexer": "ipython3",
   "version": "3.11.7"
  }
 },
 "nbformat": 4,
 "nbformat_minor": 5
}
